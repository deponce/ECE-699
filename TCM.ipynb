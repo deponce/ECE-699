{
 "cells": [
  {
   "cell_type": "code",
   "execution_count": 1,
   "id": "04c5b930",
   "metadata": {},
   "outputs": [],
   "source": [
    "import numpy as np\n",
    "import math\n",
    "import os\n",
    "import matplotlib.pyplot as plt\n",
    "from tqdm import tqdm"
   ]
  },
  {
   "cell_type": "code",
   "execution_count": 2,
   "id": "92fbd456",
   "metadata": {},
   "outputs": [
    {
     "name": "stderr",
     "output_type": "stream",
     "text": [
      "8it [00:00, 21.85it/s]\n"
     ]
    }
   ],
   "source": [
    "data_dir = './ECE-699/FGSM_EPS8/'\n",
    "listdir = os.listdir(data_dir)\n",
    "pos_arr = np.array([])\n",
    "cnt = 0\n",
    "for name in tqdm(iter(listdir)):\n",
    "    cnt +=1\n",
    "    if name[-3:] != 'npy':\n",
    "        continue\n",
    "    DCT_cof = np.load(data_dir+name)\n",
    "    DC_DCT_cof = DCT_cof[:,7,7]\n",
    "    pos_arr = np.concatenate((pos_arr,DC_DCT_cof), axis=0)"
   ]
  },
  {
   "cell_type": "code",
   "execution_count": 34,
   "id": "c6f775cc",
   "metadata": {},
   "outputs": [],
   "source": [
    "mean = np.mean(Y_n)\n",
    "neg_Y_n = Y_n[Y_n<mean]-mean\n",
    "pos_Y_n = Y_n[Y_n>=mean]-mean\n",
    "inv_neg_Y_n = -1*(neg_Y_n)\n",
    "fold_arr = np.concatenate((pos_Y_n,inv_neg_Y_n)) # abs(zero_mean(array))\n",
    "fold_arr.sort()\n",
    "unique_fold_arr = np.unique(fold_arr)\n",
    "n_unique = len(unique_fold_arr)\n",
    "n_sample = len(Y_n)"
   ]
  },
  {
   "cell_type": "code",
   "execution_count": 35,
   "id": "1761cc69",
   "metadata": {},
   "outputs": [
    {
     "data": {
      "text/plain": [
       "array([6.49461591e-10, 3.83525678e-09, 6.65712884e-09, ...,\n",
       "       4.39286613e-02, 4.68693814e-02, 4.71016996e-02])"
      ]
     },
     "execution_count": 35,
     "metadata": {},
     "output_type": "execute_result"
    }
   ],
   "source": [
    "fold_arr"
   ]
  },
  {
   "cell_type": "code",
   "execution_count": 12,
   "id": "fa6fa00a",
   "metadata": {},
   "outputs": [
    {
     "data": {
      "text/plain": [
       "array([0.03628099, 0.10897057, 0.11174564, 0.1798898 , 0.3478096 ,\n",
       "       0.44011602, 0.47674969, 0.61107218, 0.64934282, 0.76153625])"
      ]
     },
     "execution_count": 12,
     "metadata": {},
     "output_type": "execute_result"
    }
   ],
   "source": [
    "a = np.random.rand(10)\n",
    "a.sort()\n",
    "a"
   ]
  },
  {
   "cell_type": "code",
   "execution_count": 30,
   "id": "37472ce7",
   "metadata": {},
   "outputs": [
    {
     "data": {
      "text/plain": [
       "array([0.03628099, 0.10897057, 0.11174564, 0.1798898 , 0.3478096 ,\n",
       "       0.44011602, 0.47674969, 0.47674969, 0.61107218, 0.64934282,\n",
       "       0.76153625])"
      ]
     },
     "execution_count": 30,
     "metadata": {},
     "output_type": "execute_result"
    }
   ],
   "source": [
    "a = np.array([0.03628099, 0.10897057, 0.11174564, 0.1798898 , 0.3478096 ,\n",
    "       0.44011602, 0.47674969, 0.47674969, 0.61107218, 0.64934282, 0.76153625])\n",
    "a.sort()\n",
    "a"
   ]
  },
  {
   "cell_type": "code",
   "execution_count": 31,
   "id": "cecb8dc5",
   "metadata": {},
   "outputs": [
    {
     "data": {
      "text/plain": [
       "8"
      ]
     },
     "execution_count": 31,
     "metadata": {},
     "output_type": "execute_result"
    }
   ],
   "source": [
    "np.searchsorted(a,0.47674969, side='right')"
   ]
  },
  {
   "cell_type": "code",
   "execution_count": 32,
   "id": "4efb78e5",
   "metadata": {},
   "outputs": [
    {
     "data": {
      "text/plain": [
       "6"
      ]
     },
     "execution_count": 32,
     "metadata": {},
     "output_type": "execute_result"
    }
   ],
   "source": [
    "np.searchsorted(a,0.47674969, side='left')"
   ]
  },
  {
   "cell_type": "code",
   "execution_count": 35,
   "id": "bd0cdd36",
   "metadata": {},
   "outputs": [
    {
     "data": {
      "text/plain": [
       "0.61107218"
      ]
     },
     "execution_count": 35,
     "metadata": {},
     "output_type": "execute_result"
    }
   ],
   "source": [
    "a[8]"
   ]
  },
  {
   "cell_type": "code",
   "execution_count": 38,
   "id": "9f8d0bd6",
   "metadata": {},
   "outputs": [],
   "source": [
    "def LPTCM(Y_n, a, d):\n",
    "    def determine_theta(Y_n, y_c):\n",
    "        eps = 1e-3\n",
    "        # 6. Determine theta^+(y_c) and theta^-(y_c) to be the ML estimate\n",
    "        # of theta for truncated distribution\n",
    "        C = np.mean(np.abs(Y_n))\n",
    "        if C == 0:\n",
    "            return 0\n",
    "        elif C >= y_c/2:\n",
    "            return float('inf')\n",
    "        else:\n",
    "            last_Lambda = C\n",
    "        while True:\n",
    "            exp = math.exp(y_c/last_Lambda)\n",
    "            Lambda= C+ (y_c)/(exp-1)\n",
    "            if abs(Lambda-last_Lambda) < eps:\n",
    "                break\n",
    "            last_Lambda = Lambda\n",
    "        return Lambda\n",
    "    b_lst = np.array([])\n",
    "    Lambda_lst = np.array([])\n",
    "    g_lst = np.array([])\n",
    "    yc_lst = np.array([])\n",
    "    def calc_g(mean0_abs_arr, N1_p, n_sample, Lambda, y_c ):\n",
    "        # a: the largest magnitude a sample y can take\n",
    "        b = N1_p/n_sample\n",
    "        N1_log_likelihood = N1_p*math.log(b/(1-math.exp(-y_c/Lambda))/(2*Lambda))-np.sum(mean0_abs_arr[:N1_p])\n",
    "        N2_log_likelihood = (n_sample-N1_p)*math.log((1-b)/(2*(a-y_c)))\n",
    "        return N1_log_likelihood + N2_log_likelihood, b\n",
    "    \n",
    "    mean = np.mean(Y_n)\n",
    "    neg_Y_n = Y_n[Y_n<mean]-mean\n",
    "    pos_Y_n = Y_n[Y_n>=mean]-mean\n",
    "    inv_neg_Y_n = -1*(neg_Y_n)\n",
    "    mean0_abs_arr = np.concatenate((pos_Y_n,inv_neg_Y_n)) # abs(zero_mean(array))\n",
    "    print('start sort')\n",
    "    mean0_abs_arr.sort() # 1. sort {|Y_n|} in ascending order into W_1 <=...<=W_n\n",
    "    print('finish sort')\n",
    "    yc_lst = np.unique(Y_n>=mean)-mean\n",
    "    n_sample = len(Y_n) \n",
    "    m = np.searchsorted(yc_lst, d, side='right') # 2. determine m = min{i: W_i>=d}\n",
    "    n = len(yc_lst)\n",
    "    i = 0\n",
    "    for idx in tqdm(range(m,n)):\n",
    "        y_c = yc_lst[idx]\n",
    "        N1_p = np.searchsorted(mean0_abs_arr, y_c, side='right')\n",
    "        print(N1_p)\n",
    "        Lambda_p = determine_theta(mean0_abs_arr[:N1_p], y_c)\n",
    "        g_p, B_p = calc_g(mean0_abs_arr, N1_p, n_sample, Lambda_p, y_c)\n",
    "        \n",
    "        g_lst = np.append(g_lst, g_p)\n",
    "        b_lst = np.append(b_lst, B_p)\n",
    "        Lambda_lst = np.append(Lambda_lst,Lambda_n)\n",
    "        yc_lst = np.append(yc_lst,y_c)\n",
    "    max_idx = np.argmax(g_lst)\n",
    "    return b_lst[max_idx],Lambda_lst[max_idx],yc_lst[max_idx]"
   ]
  },
  {
   "cell_type": "code",
   "execution_count": 40,
   "id": "034238eb",
   "metadata": {},
   "outputs": [
    {
     "name": "stdout",
     "output_type": "stream",
     "text": [
      "start sort\n",
      "finish sort\n"
     ]
    },
    {
     "name": "stderr",
     "output_type": "stream",
     "text": [
      "  0%|          | 0/1 [00:00<?, ?it/s]"
     ]
    },
    {
     "name": "stdout",
     "output_type": "stream",
     "text": [
      "3048235\n"
     ]
    },
    {
     "name": "stderr",
     "output_type": "stream",
     "text": [
      "\n"
     ]
    },
    {
     "ename": "ValueError",
     "evalue": "math domain error",
     "output_type": "error",
     "traceback": [
      "\u001b[0;31m---------------------------------------------------------------------------\u001b[0m",
      "\u001b[0;31mValueError\u001b[0m                                Traceback (most recent call last)",
      "\u001b[0;32m<ipython-input-40-9e320c53c43c>\u001b[0m in \u001b[0;36m<module>\u001b[0;34m\u001b[0m\n\u001b[1;32m      1\u001b[0m \u001b[0ma\u001b[0m \u001b[0;34m=\u001b[0m \u001b[0;36m0.061\u001b[0m\u001b[0;34m\u001b[0m\u001b[0;34m\u001b[0m\u001b[0m\n\u001b[1;32m      2\u001b[0m \u001b[0md\u001b[0m\u001b[0;34m=\u001b[0m \u001b[0;36m0.017\u001b[0m\u001b[0;34m\u001b[0m\u001b[0;34m\u001b[0m\u001b[0m\n\u001b[0;32m----> 3\u001b[0;31m \u001b[0mLPTCM\u001b[0m\u001b[0;34m(\u001b[0m\u001b[0mpos_arr\u001b[0m\u001b[0;34m,\u001b[0m\u001b[0ma\u001b[0m\u001b[0;34m,\u001b[0m\u001b[0md\u001b[0m\u001b[0;34m)\u001b[0m\u001b[0;34m\u001b[0m\u001b[0;34m\u001b[0m\u001b[0m\n\u001b[0m",
      "\u001b[0;32m<ipython-input-38-bdadbe5603cc>\u001b[0m in \u001b[0;36mLPTCM\u001b[0;34m(Y_n, a, d)\u001b[0m\n\u001b[1;32m     47\u001b[0m         \u001b[0mprint\u001b[0m\u001b[0;34m(\u001b[0m\u001b[0mN1_p\u001b[0m\u001b[0;34m)\u001b[0m\u001b[0;34m\u001b[0m\u001b[0;34m\u001b[0m\u001b[0m\n\u001b[1;32m     48\u001b[0m         \u001b[0mLambda_p\u001b[0m \u001b[0;34m=\u001b[0m \u001b[0mdetermine_theta\u001b[0m\u001b[0;34m(\u001b[0m\u001b[0mmean0_abs_arr\u001b[0m\u001b[0;34m[\u001b[0m\u001b[0;34m:\u001b[0m\u001b[0mN1_p\u001b[0m\u001b[0;34m]\u001b[0m\u001b[0;34m,\u001b[0m \u001b[0my_c\u001b[0m\u001b[0;34m)\u001b[0m\u001b[0;34m\u001b[0m\u001b[0;34m\u001b[0m\u001b[0m\n\u001b[0;32m---> 49\u001b[0;31m         \u001b[0mg_p\u001b[0m\u001b[0;34m,\u001b[0m \u001b[0mB_p\u001b[0m \u001b[0;34m=\u001b[0m \u001b[0mcalc_g\u001b[0m\u001b[0;34m(\u001b[0m\u001b[0mmean0_abs_arr\u001b[0m\u001b[0;34m,\u001b[0m \u001b[0mN1_p\u001b[0m\u001b[0;34m,\u001b[0m \u001b[0mn_sample\u001b[0m\u001b[0;34m,\u001b[0m \u001b[0mLambda_p\u001b[0m\u001b[0;34m,\u001b[0m \u001b[0my_c\u001b[0m\u001b[0;34m)\u001b[0m\u001b[0;34m\u001b[0m\u001b[0;34m\u001b[0m\u001b[0m\n\u001b[0m\u001b[1;32m     50\u001b[0m \u001b[0;34m\u001b[0m\u001b[0m\n\u001b[1;32m     51\u001b[0m         \u001b[0mg_lst\u001b[0m \u001b[0;34m=\u001b[0m \u001b[0mnp\u001b[0m\u001b[0;34m.\u001b[0m\u001b[0mappend\u001b[0m\u001b[0;34m(\u001b[0m\u001b[0mg_lst\u001b[0m\u001b[0;34m,\u001b[0m \u001b[0mg_p\u001b[0m\u001b[0;34m)\u001b[0m\u001b[0;34m\u001b[0m\u001b[0;34m\u001b[0m\u001b[0m\n",
      "\u001b[0;32m<ipython-input-38-bdadbe5603cc>\u001b[0m in \u001b[0;36mcalc_g\u001b[0;34m(mean0_abs_arr, N1_p, n_sample, Lambda, y_c)\u001b[0m\n\u001b[1;32m     26\u001b[0m         \u001b[0mb\u001b[0m \u001b[0;34m=\u001b[0m \u001b[0mN1_p\u001b[0m\u001b[0;34m/\u001b[0m\u001b[0mn_sample\u001b[0m\u001b[0;34m\u001b[0m\u001b[0;34m\u001b[0m\u001b[0m\n\u001b[1;32m     27\u001b[0m         \u001b[0mN1_log_likelihood\u001b[0m \u001b[0;34m=\u001b[0m \u001b[0mN1_p\u001b[0m\u001b[0;34m*\u001b[0m\u001b[0mmath\u001b[0m\u001b[0;34m.\u001b[0m\u001b[0mlog\u001b[0m\u001b[0;34m(\u001b[0m\u001b[0mb\u001b[0m\u001b[0;34m/\u001b[0m\u001b[0;34m(\u001b[0m\u001b[0;36m1\u001b[0m\u001b[0;34m-\u001b[0m\u001b[0mmath\u001b[0m\u001b[0;34m.\u001b[0m\u001b[0mexp\u001b[0m\u001b[0;34m(\u001b[0m\u001b[0;34m-\u001b[0m\u001b[0my_c\u001b[0m\u001b[0;34m/\u001b[0m\u001b[0mLambda\u001b[0m\u001b[0;34m)\u001b[0m\u001b[0;34m)\u001b[0m\u001b[0;34m/\u001b[0m\u001b[0;34m(\u001b[0m\u001b[0;36m2\u001b[0m\u001b[0;34m*\u001b[0m\u001b[0mLambda\u001b[0m\u001b[0;34m)\u001b[0m\u001b[0;34m)\u001b[0m\u001b[0;34m-\u001b[0m\u001b[0mnp\u001b[0m\u001b[0;34m.\u001b[0m\u001b[0msum\u001b[0m\u001b[0;34m(\u001b[0m\u001b[0mmean0_abs_arr\u001b[0m\u001b[0;34m[\u001b[0m\u001b[0;34m:\u001b[0m\u001b[0mN1_p\u001b[0m\u001b[0;34m]\u001b[0m\u001b[0;34m)\u001b[0m\u001b[0;34m\u001b[0m\u001b[0;34m\u001b[0m\u001b[0m\n\u001b[0;32m---> 28\u001b[0;31m         \u001b[0mN2_log_likelihood\u001b[0m \u001b[0;34m=\u001b[0m \u001b[0;34m(\u001b[0m\u001b[0mn_sample\u001b[0m\u001b[0;34m-\u001b[0m\u001b[0mN1_p\u001b[0m\u001b[0;34m)\u001b[0m\u001b[0;34m*\u001b[0m\u001b[0mmath\u001b[0m\u001b[0;34m.\u001b[0m\u001b[0mlog\u001b[0m\u001b[0;34m(\u001b[0m\u001b[0;34m(\u001b[0m\u001b[0;36m1\u001b[0m\u001b[0;34m-\u001b[0m\u001b[0mb\u001b[0m\u001b[0;34m)\u001b[0m\u001b[0;34m/\u001b[0m\u001b[0;34m(\u001b[0m\u001b[0;36m2\u001b[0m\u001b[0;34m*\u001b[0m\u001b[0;34m(\u001b[0m\u001b[0ma\u001b[0m\u001b[0;34m-\u001b[0m\u001b[0my_c\u001b[0m\u001b[0;34m)\u001b[0m\u001b[0;34m)\u001b[0m\u001b[0;34m)\u001b[0m\u001b[0;34m\u001b[0m\u001b[0;34m\u001b[0m\u001b[0m\n\u001b[0m\u001b[1;32m     29\u001b[0m         \u001b[0;32mreturn\u001b[0m \u001b[0mN1_log_likelihood\u001b[0m \u001b[0;34m+\u001b[0m \u001b[0mN2_log_likelihood\u001b[0m\u001b[0;34m,\u001b[0m \u001b[0mb\u001b[0m\u001b[0;34m\u001b[0m\u001b[0;34m\u001b[0m\u001b[0m\n\u001b[1;32m     30\u001b[0m \u001b[0;34m\u001b[0m\u001b[0m\n",
      "\u001b[0;31mValueError\u001b[0m: math domain error"
     ]
    }
   ],
   "source": [
    "a = 0.061\n",
    "d= 0.017\n",
    "LPTCM(pos_arr,a,d)"
   ]
  },
  {
   "cell_type": "code",
   "execution_count": 9,
   "id": "a1ac1bd4",
   "metadata": {},
   "outputs": [],
   "source": [
    "def LPTCM(Y_n, a, d):\n",
    "    b_lst = np.array([])\n",
    "    Lambda_lst = np.array([])\n",
    "    g_lst = np.array([])\n",
    "    print('start sort')\n",
    "    Y_n.sort() # 1. sort {|Y_n|} in ascending order into W_1 <=...<=W_n\n",
    "    W_lst = np.unique(Y_n)\n",
    "    print('finish sort')\n",
    "    m = np.sum([W_lst<=d]) # 2. determine m = min{i: W_i>=d}\n",
    "    n = len(W_lst)\n",
    "    zero_idx = np.sum([Y_n<0])\n",
    "    idx_choose = 0\n",
    "    for idx in tqdm(range(m,n)): # 3. foreach y_c in {d, W_m, W_{m+1},...,W_n}do\n",
    "        y_c = W_lst[idx]\n",
    "        N1_p, N1 = np.abs(Y_n)<=y_c, np.abs(Y_n)<y_c # 4. set N_1^+(y_c) = {i: |Y_i|<=y_c}, N_1(y_c) = {i: |Y_i|<y_c}\n",
    "        N2_p, N2 = np.abs(Y_n)>y_c, np.abs(Y_n)>=y_c\n",
    "        B_p, B_n = np.sum(N1_p)/len(Y_n), np.sum(N1)/len(Y_n) # 5.Compute b^+(y_c) and b^-(y_c)\n",
    "        Lambda_p, Lambda_n = determine_theta(N1_p, Y_n, y_c), determine_theta(N1, Y_n, y_c) # 6.\n",
    "        g_p, g_n = calc_g(N1_p, N2_p, Y_n, a, B_p, y_c, Lambda_p), calc_g(N1, N2, Y_n, a, B_n, y_c, Lambda_n)\n",
    "        if g_p >= g_n:\n",
    "            print(Lambda_p,g_p)\n",
    "            g_lst = np.append(g_lst,g_p)\n",
    "            Lambda_lst = np.append(Lambda_lst,Lambda_p)\n",
    "            b_lst = np.append(b_lst,B_p)\n",
    "        else:\n",
    "            print(Lambda_n,g_n)\n",
    "            g_lst = np.append(g_lst,g_n)\n",
    "            Lambda_lst = np.append(Lambda_lst,Lambda_n)\n",
    "            b_lst = np.append(b_lst,B_n)\n",
    "    max_idx = np.argmax(g_lst)\n",
    "    def determine_theta(N1, Y_n, y_c):\n",
    "        eps = 1e-3\n",
    "        # 6. Determine theta^+(y_c) and theta^-(y_c) to be the ML estimate\n",
    "        # of theta for truncated distribution\n",
    "        C = np.mean(np.abs(Y_n[N1]))\n",
    "        if C == 0:\n",
    "            return 0\n",
    "        elif C >= y_c/2:\n",
    "            return float('inf')\n",
    "        else:\n",
    "            last_Lambda = C\n",
    "        while True:\n",
    "            exp = math.exp(y_c/last_Lambda)\n",
    "            Lambda= C+ (y_c)/(exp-1)\n",
    "            if abs(Lambda-last_Lambda) < eps:\n",
    "                break\n",
    "            last_Lambda = Lambda\n",
    "        return Lambda\n",
    "\n",
    "    def calc_g(N1, N2, Y_n, a, b, y_c, Lambda):\n",
    "        # a: the largest magnitude a sample y can take\n",
    "        return np.sum(N1)*math.log(b/(1-math.exp(-y_c/Lambda))*1/(2*Lambda))+Lambda*np.sum(-np.abs(Y_n[N1])) + np.sum(N2)*(1-b)/(2*(a-y_c))\n",
    "\n",
    "    return b_lst[max_idx], Lambda_lst[max_idx]"
   ]
  },
  {
   "cell_type": "code",
   "execution_count": 10,
   "id": "fe838d33",
   "metadata": {},
   "outputs": [
    {
     "name": "stdout",
     "output_type": "stream",
     "text": [
      "start sort\n",
      "finish sort\n"
     ]
    },
    {
     "name": "stderr",
     "output_type": "stream",
     "text": [
      "  0%|          | 0/1635 [00:00<?, ?it/s]\n"
     ]
    },
    {
     "ename": "UnboundLocalError",
     "evalue": "local variable 'determine_theta' referenced before assignment",
     "output_type": "error",
     "traceback": [
      "\u001b[0;31m---------------------------------------------------------------------------\u001b[0m",
      "\u001b[0;31mUnboundLocalError\u001b[0m                         Traceback (most recent call last)",
      "\u001b[0;32m<ipython-input-10-991ec5754f0e>\u001b[0m in \u001b[0;36m<module>\u001b[0;34m\u001b[0m\n\u001b[0;32m----> 1\u001b[0;31m \u001b[0mprint\u001b[0m\u001b[0;34m(\u001b[0m\u001b[0mLPTCM\u001b[0m\u001b[0;34m(\u001b[0m\u001b[0mpos_arr\u001b[0m\u001b[0;34m,\u001b[0m \u001b[0ma\u001b[0m \u001b[0;34m=\u001b[0m \u001b[0;36m0.061\u001b[0m\u001b[0;34m,\u001b[0m \u001b[0md\u001b[0m\u001b[0;34m=\u001b[0m \u001b[0;36m0.017\u001b[0m\u001b[0;34m)\u001b[0m\u001b[0;34m)\u001b[0m\u001b[0;34m\u001b[0m\u001b[0;34m\u001b[0m\u001b[0m\n\u001b[0m",
      "\u001b[0;32m<ipython-input-9-7d4703de1289>\u001b[0m in \u001b[0;36mLPTCM\u001b[0;34m(Y_n, a, d)\u001b[0m\n\u001b[1;32m     16\u001b[0m         \u001b[0mN2_p\u001b[0m\u001b[0;34m,\u001b[0m \u001b[0mN2\u001b[0m \u001b[0;34m=\u001b[0m \u001b[0mnp\u001b[0m\u001b[0;34m.\u001b[0m\u001b[0mabs\u001b[0m\u001b[0;34m(\u001b[0m\u001b[0mY_n\u001b[0m\u001b[0;34m)\u001b[0m\u001b[0;34m>\u001b[0m\u001b[0my_c\u001b[0m\u001b[0;34m,\u001b[0m \u001b[0mnp\u001b[0m\u001b[0;34m.\u001b[0m\u001b[0mabs\u001b[0m\u001b[0;34m(\u001b[0m\u001b[0mY_n\u001b[0m\u001b[0;34m)\u001b[0m\u001b[0;34m>=\u001b[0m\u001b[0my_c\u001b[0m\u001b[0;34m\u001b[0m\u001b[0;34m\u001b[0m\u001b[0m\n\u001b[1;32m     17\u001b[0m         \u001b[0mB_p\u001b[0m\u001b[0;34m,\u001b[0m \u001b[0mB_n\u001b[0m \u001b[0;34m=\u001b[0m \u001b[0mnp\u001b[0m\u001b[0;34m.\u001b[0m\u001b[0msum\u001b[0m\u001b[0;34m(\u001b[0m\u001b[0mN1_p\u001b[0m\u001b[0;34m)\u001b[0m\u001b[0;34m/\u001b[0m\u001b[0mlen\u001b[0m\u001b[0;34m(\u001b[0m\u001b[0mY_n\u001b[0m\u001b[0;34m)\u001b[0m\u001b[0;34m,\u001b[0m \u001b[0mnp\u001b[0m\u001b[0;34m.\u001b[0m\u001b[0msum\u001b[0m\u001b[0;34m(\u001b[0m\u001b[0mN1\u001b[0m\u001b[0;34m)\u001b[0m\u001b[0;34m/\u001b[0m\u001b[0mlen\u001b[0m\u001b[0;34m(\u001b[0m\u001b[0mY_n\u001b[0m\u001b[0;34m)\u001b[0m \u001b[0;31m# 5.Compute b^+(y_c) and b^-(y_c)\u001b[0m\u001b[0;34m\u001b[0m\u001b[0;34m\u001b[0m\u001b[0m\n\u001b[0;32m---> 18\u001b[0;31m         \u001b[0mLambda_p\u001b[0m\u001b[0;34m,\u001b[0m \u001b[0mLambda_n\u001b[0m \u001b[0;34m=\u001b[0m \u001b[0mdetermine_theta\u001b[0m\u001b[0;34m(\u001b[0m\u001b[0mN1_p\u001b[0m\u001b[0;34m,\u001b[0m \u001b[0mY_n\u001b[0m\u001b[0;34m,\u001b[0m \u001b[0my_c\u001b[0m\u001b[0;34m)\u001b[0m\u001b[0;34m,\u001b[0m \u001b[0mdetermine_theta\u001b[0m\u001b[0;34m(\u001b[0m\u001b[0mN1\u001b[0m\u001b[0;34m,\u001b[0m \u001b[0mY_n\u001b[0m\u001b[0;34m,\u001b[0m \u001b[0my_c\u001b[0m\u001b[0;34m)\u001b[0m \u001b[0;31m# 6.\u001b[0m\u001b[0;34m\u001b[0m\u001b[0;34m\u001b[0m\u001b[0m\n\u001b[0m\u001b[1;32m     19\u001b[0m         \u001b[0mg_p\u001b[0m\u001b[0;34m,\u001b[0m \u001b[0mg_n\u001b[0m \u001b[0;34m=\u001b[0m \u001b[0mcalc_g\u001b[0m\u001b[0;34m(\u001b[0m\u001b[0mN1_p\u001b[0m\u001b[0;34m,\u001b[0m \u001b[0mN2_p\u001b[0m\u001b[0;34m,\u001b[0m \u001b[0mY_n\u001b[0m\u001b[0;34m,\u001b[0m \u001b[0ma\u001b[0m\u001b[0;34m,\u001b[0m \u001b[0mB_p\u001b[0m\u001b[0;34m,\u001b[0m \u001b[0my_c\u001b[0m\u001b[0;34m,\u001b[0m \u001b[0mLambda_p\u001b[0m\u001b[0;34m)\u001b[0m\u001b[0;34m,\u001b[0m \u001b[0mcalc_g\u001b[0m\u001b[0;34m(\u001b[0m\u001b[0mN1\u001b[0m\u001b[0;34m,\u001b[0m \u001b[0mN2\u001b[0m\u001b[0;34m,\u001b[0m \u001b[0mY_n\u001b[0m\u001b[0;34m,\u001b[0m \u001b[0ma\u001b[0m\u001b[0;34m,\u001b[0m \u001b[0mB_n\u001b[0m\u001b[0;34m,\u001b[0m \u001b[0my_c\u001b[0m\u001b[0;34m,\u001b[0m \u001b[0mLambda_n\u001b[0m\u001b[0;34m)\u001b[0m\u001b[0;34m\u001b[0m\u001b[0;34m\u001b[0m\u001b[0m\n\u001b[1;32m     20\u001b[0m         \u001b[0;32mif\u001b[0m \u001b[0mg_p\u001b[0m \u001b[0;34m>=\u001b[0m \u001b[0mg_n\u001b[0m\u001b[0;34m:\u001b[0m\u001b[0;34m\u001b[0m\u001b[0;34m\u001b[0m\u001b[0m\n",
      "\u001b[0;31mUnboundLocalError\u001b[0m: local variable 'determine_theta' referenced before assignment"
     ]
    }
   ],
   "source": [
    "print(LPTCM(pos_arr, a = 0.061, d= 0.017))\n"
   ]
  },
  {
   "cell_type": "code",
   "execution_count": 4,
   "id": "a2b5e1bc",
   "metadata": {},
   "outputs": [
    {
     "data": {
      "text/plain": [
       "'/home/deponce/ECE699'"
      ]
     },
     "execution_count": 4,
     "metadata": {},
     "output_type": "execute_result"
    }
   ],
   "source": [
    "pwd"
   ]
  },
  {
   "cell_type": "code",
   "execution_count": null,
   "id": "b4fb5255",
   "metadata": {},
   "outputs": [],
   "source": []
  }
 ],
 "metadata": {
  "kernelspec": {
   "display_name": "Python 3",
   "language": "python",
   "name": "python3"
  },
  "language_info": {
   "codemirror_mode": {
    "name": "ipython",
    "version": 3
   },
   "file_extension": ".py",
   "mimetype": "text/x-python",
   "name": "python",
   "nbconvert_exporter": "python",
   "pygments_lexer": "ipython3",
   "version": "3.8.8"
  }
 },
 "nbformat": 4,
 "nbformat_minor": 5
}
