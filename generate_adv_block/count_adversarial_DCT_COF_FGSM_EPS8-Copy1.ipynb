{
 "cells": [
  {
   "cell_type": "code",
   "execution_count": 1,
   "metadata": {},
   "outputs": [
    {
     "name": "stdout",
     "output_type": "stream",
     "text": [
      "cuda\n"
     ]
    }
   ],
   "source": [
    "import torch\n",
    "import torchvision\n",
    "import torch.nn as nn\n",
    "import torch.nn.functional as F\n",
    "import torch.optim as optim\n",
    "from torch.utils.data import Dataset, TensorDataset\n",
    "import torchattacks\n",
    "from torchsummary import summary\n",
    "from torchvision import models, datasets, transforms\n",
    "import cv2\n",
    "import numpy as np\n",
    "from matplotlib import pyplot as plt\n",
    "from tqdm import tqdm\n",
    "import numpy as np\n",
    "import math\n",
    "import cv2\n",
    "import os\n",
    "os.environ[\"CUDA_VISIBLE_DEVICES\"]=\"1\"\n",
    "device = torch.device('cuda' if torch.cuda.is_available() else 'cpu')\n",
    "print(device)"
   ]
  },
  {
   "cell_type": "code",
   "execution_count": 2,
   "metadata": {},
   "outputs": [],
   "source": [
    "from numpy import pi\n",
    "from numpy import sin\n",
    "from numpy import zeros\n",
    "from numpy import r_\n",
    "from scipy import signal\n",
    "from scipy import misc "
   ]
  },
  {
   "cell_type": "code",
   "execution_count": 3,
   "metadata": {},
   "outputs": [],
   "source": [
    "def dct2(a):\n",
    "    return scipy.fftpack.dct(scipy.fftpack.dct( a, axis=0, norm='ortho' ), axis=1, norm='ortho' )\n"
   ]
  },
  {
   "cell_type": "markdown",
   "metadata": {},
   "source": [
    "import sys\n",
    "from watermarkJPEG import *\n",
    "from JPEG_layer import * # some utils."
   ]
  },
  {
   "cell_type": "code",
   "execution_count": 4,
   "metadata": {},
   "outputs": [],
   "source": [
    "transform = transforms.Compose(\n",
    "        [\n",
    "            #transforms.Resize(256),\n",
    "            #transforms.CenterCrop(224),\n",
    "            transforms.ToTensor(),\n",
    "            #transforms.Normalize(mean=[0.485, 0.456, 0.406], std=[0.229, 0.224, 0.225]),\n",
    "        ]\n",
    "    )\n",
    "\n",
    "dataset = torchvision.datasets.ImageNet(root=\"./data/\", split='val',\n",
    "                             transform=transform\n",
    "                                       )\n",
    "\n",
    "test_loader = torch.utils.data.DataLoader(dataset, batch_size=1, shuffle=True)"
   ]
  },
  {
   "cell_type": "code",
   "execution_count": 5,
   "metadata": {},
   "outputs": [],
   "source": [
    "class Interpolate(nn.Module):\n",
    "    def __init__(self,size=(224,224), mode='bilinear') -> None:\n",
    "        super(Interpolate, self).__init__()\n",
    "        self.size = size\n",
    "        self.mode = mode\n",
    "    def forward(self, input: torch.Tensor) -> torch.Tensor:\n",
    "        #input = torch.squeeze(input)\n",
    "        #return torch.unsqueeze(F.interpolate(input, size=self.size, mode=self.mode), dim=0)\n",
    "        return F.interpolate(input, size=self.size, mode=self.mode)"
   ]
  },
  {
   "cell_type": "code",
   "execution_count": 6,
   "metadata": {},
   "outputs": [],
   "source": [
    "def modelIntegration(pretrained_model):\n",
    "    class IntegratedModel(nn.Module):\n",
    "        def __init__(self, pretrained_model):\n",
    "            super(IntegratedModel, self).__init__()\n",
    "            interpolate = Interpolate()\n",
    "            self.Integrated_Model = nn.Sequential(\n",
    "                interpolate,\n",
    "                pretrained_model\n",
    "            )\n",
    "\n",
    "        def forward(self, x):\n",
    "            x = self.Integrated_Model(x)\n",
    "            return x\n",
    "    return IntegratedModel(pretrained_model)"
   ]
  },
  {
   "cell_type": "code",
   "execution_count": 7,
   "metadata": {},
   "outputs": [],
   "source": [
    "pretrained_model = models.resnet18(pretrained=True,  progress = True).to(device)\n",
    "#_ = pretrained_model.eval()"
   ]
  },
  {
   "cell_type": "code",
   "execution_count": 8,
   "metadata": {},
   "outputs": [],
   "source": [
    "IntegratedModel = modelIntegration(pretrained_model).to(device)\n",
    "_=IntegratedModel.eval()"
   ]
  },
  {
   "cell_type": "code",
   "execution_count": 9,
   "metadata": {},
   "outputs": [],
   "source": [
    "def recreate_image(im_as_var):\n",
    "    \"\"\"\n",
    "        Recreates images from a torch variable, sort of reverse preprocessing\n",
    "\n",
    "    Args:\n",
    "        im_as_var (torch variable): Image to recreate\n",
    "\n",
    "    returns:\n",
    "        recreated_im (numpy arr): Recreated image in array\n",
    "    \"\"\"\n",
    "    reverse_mean = [-0.485, -0.456, -0.406]\n",
    "    reverse_std = [1/0.229, 1/0.224, 1/0.225]\n",
    "    recreated_im = torch.clone(im_as_var)\n",
    "    recreated_im = recreated_im.cpu().numpy()[0]\n",
    "    for c in range(3):\n",
    "        recreated_im[c] /= reverse_std[c]\n",
    "        recreated_im[c] -= reverse_mean[c]\n",
    "    recreated_im[recreated_im > 1] = 1\n",
    "    recreated_im[recreated_im < 0] = 0\n",
    "    #recreated_im = np.round(recreated_im * 255)\n",
    "    recreated_im = recreated_im.transpose(1, 2, 0)\n",
    "    #recreated_im = np.uint8(recreated_im).transpose(1, 2, 0)\n",
    "    # Convert RBG to GBR\n",
    "    #recreated_im = recreated_im[..., ::-1]\n",
    "    return recreated_im"
   ]
  },
  {
   "cell_type": "code",
   "execution_count": 10,
   "metadata": {},
   "outputs": [],
   "source": [
    "def recreate_image(im_as_var):\n",
    "    recreated_im = torch.clone(im_as_var)\n",
    "    recreated_im = recreated_im.cpu().numpy()[0]\n",
    "    #recreated_im = np.round(recreated_im * 255)\n",
    "    recreated_im = recreated_im.transpose(1, 2, 0)\n",
    "    #recreated_im = np.uint8(recreated_im).transpose(1, 2, 0)\n",
    "    # Convert RBG to GBR\n",
    "    #recreated_im = recreated_im[..., ::-1]\n",
    "    return recreated_im"
   ]
  },
  {
   "cell_type": "code",
   "execution_count": 11,
   "metadata": {},
   "outputs": [],
   "source": [
    "def blockify(im: torch.Tensor, size: int) -> torch.Tensor:\n",
    "    r\"\"\"\n",
    "    Breaks an image into non-overlapping blocks of equal size.\n",
    "\n",
    "    Parameters\n",
    "    ----------\n",
    "    im : Tensor\n",
    "        The image to break into blocks, must be in :math:`(N, C, H, W)` format.\n",
    "    size : Tuple[int, int]\n",
    "        The size of the blocks in :math:`(H, W)` format.\n",
    "\n",
    "    Returns\n",
    "    -------\n",
    "    A tensor containing the non-overlappng blocks in :math:`(N, C, L, H, W)` format where :math:`L` is the\n",
    "    number of non-overlapping blocks in the image channel indexed by :math:`(N, C)` and :math:`(H, W)` matches\n",
    "    the block size.\n",
    "\n",
    "    Note\n",
    "    ----\n",
    "    If the image does not split evenly into blocks of the given size, the result will have some overlap. It\n",
    "    is the callers responsibility to pad the input to a multiple of the block size, no error will be thrown\n",
    "    in this case.\n",
    "    \"\"\"\n",
    "    bs = im.shape[0]\n",
    "    ch = im.shape[1]\n",
    "    h = im.shape[2]\n",
    "    w = im.shape[3]\n",
    "\n",
    "    im = im.reshape(bs * ch, 1, h, w)\n",
    "    im = torch.nn.functional.unfold(im, kernel_size=(size, size), stride=(size, size))\n",
    "    im = im.transpose(1, 2)\n",
    "    im = im.reshape(bs, ch, -1, size, size)\n",
    "\n",
    "    return im"
   ]
  },
  {
   "cell_type": "code",
   "execution_count": 12,
   "metadata": {},
   "outputs": [],
   "source": [
    "def _normalize(N: int) -> torch.Tensor:\n",
    "    r\"\"\"\n",
    "    Computes the constant scale factor which makes the DCT orthonormal\n",
    "    \"\"\"\n",
    "    n = torch.ones((N, 1))\n",
    "    n[0, 0] = 1 / math.sqrt(2)\n",
    "    return n @ n.t()"
   ]
  },
  {
   "cell_type": "code",
   "execution_count": 13,
   "metadata": {},
   "outputs": [],
   "source": [
    "def _harmonics(N: int) -> torch.Tensor:\n",
    "    r\"\"\"\n",
    "    Computes the cosine harmonics for the DCT transform\n",
    "    \"\"\"\n",
    "    spatial = torch.arange(float(N)).reshape((N, 1))\n",
    "    spectral = torch.arange(float(N)).reshape((1, N))\n",
    "\n",
    "    spatial = 2 * spatial + 1\n",
    "    spectral = (spectral * math.pi) / (2 * N)\n",
    "\n",
    "    return torch.cos(spatial @ spectral)"
   ]
  },
  {
   "cell_type": "markdown",
   "metadata": {},
   "source": [
    "$D_{i,j}={\\frac {1}{\\sqrt{2N}}}\\alpha (i)\\alpha (j)\\sum _{x=0}^{N}\\sum _{y=0}^{N}I_{x,y}\\cos \\left[{\\frac {(2x+1)i\\pi }{2N}}\\right]\\cos \\left[{\\frac {(2y+1)j\\pi }{2N}}\\right]$"
   ]
  },
  {
   "cell_type": "code",
   "execution_count": 14,
   "metadata": {},
   "outputs": [],
   "source": [
    "def block_dct(blocks: torch.Tensor) -> torch.Tensor:\n",
    "    r\"\"\"\n",
    "    Computes the DCT of image blocks\n",
    "\n",
    "    Args:\n",
    "        blocks (Tensor): Non-overlapping blocks to perform the DCT on in :math:`(N, C, L, H, W)` format.\n",
    "    \n",
    "    Returns:\n",
    "        Tensor: The DCT coefficients of each block in the same shape as the input.\n",
    "\n",
    "    Note:\n",
    "        The function computes the forward DCT on each block given by \n",
    "\n",
    "        .. math::\n",
    "\n",
    "            D_{i,j}={\\frac {1}{\\sqrt{2N}}}\\alpha (i)\\alpha (j)\\sum _{x=0}^{N}\\sum _{y=0}^{N}I_{x,y}\\cos \\left[{\\frac {(2x+1)i\\pi }{2N}}\\right]\\cos \\left[{\\frac {(2y+1)j\\pi }{2N}}\\right]\n",
    "        \n",
    "        Where :math:`i,j` are the spatial frequency indices, :math:`N` is the block size and :math:`I` is the image with pixel positions :math:`x, y`. \n",
    "        \n",
    "        :math:`\\alpha` is a scale factor which ensures the transform is orthonormal given by \n",
    "\n",
    "        .. math::\n",
    "\n",
    "            \\alpha(u) = \\begin{cases}{\n",
    "                    \\frac{1}{\\sqrt{2}}} &{\\text{if }}u=0 \\\\\n",
    "                    1 &{\\text{otherwise}}\n",
    "                \\end{cases}\n",
    "        \n",
    "        There is technically no restriction on the range of pixel values but to match JPEG it is recommended to use the range [-128, 127].\n",
    "    \"\"\"\n",
    "    N = blocks.shape[3]\n",
    "\n",
    "    n = _normalize(N).float()\n",
    "    h = _harmonics(N).float()\n",
    "\n",
    "    if blocks.is_cuda:\n",
    "        n = n.cuda()\n",
    "        h = h.cuda()\n",
    "    \n",
    "    coeff = (1 / math.sqrt(2 * N)) * n * (h.t() @ blocks @ h)\n",
    "\n",
    "    return coeff"
   ]
  },
  {
   "cell_type": "code",
   "execution_count": 15,
   "metadata": {},
   "outputs": [],
   "source": [
    "def rgb_to_ycbcr(image: torch.Tensor) -> torch.Tensor:\n",
    "    r\"\"\"Convert an RGB image to YCbCr.\n",
    "\n",
    "    Args:\n",
    "        image (torch.Tensor): RGB Image to be converted to YCbCr.\n",
    "\n",
    "    Returns:\n",
    "        torch.Tensor: YCbCr version of the image.\n",
    "    \"\"\"\n",
    "\n",
    "    if not torch.is_tensor(image):\n",
    "        raise TypeError(\"Input type is not a torch.Tensor. Got {}\".format(\n",
    "            type(image)))\n",
    "\n",
    "    if len(image.shape) < 3 or image.shape[-3] != 3:\n",
    "        raise ValueError(\"Input size must have a shape of (*, 3, H, W). Got {}\"\n",
    "                         .format(image.shape))\n",
    "\n",
    "    r: torch.Tensor = image[0, :, :]\n",
    "    g: torch.Tensor = image[1, :, :]\n",
    "    b: torch.Tensor = image[2, :, :]\n",
    "\n",
    "    delta = .5\n",
    "    y: torch.Tensor = .299 * r + .587 * g + .114 * b\n",
    "    cb: torch.Tensor = (b - y) * .564 + delta\n",
    "    cr: torch.Tensor = (r - y) * .713 + delta\n",
    "    return torch.stack((y, cb, cr), -3)"
   ]
  },
  {
   "cell_type": "code",
   "execution_count": 16,
   "metadata": {},
   "outputs": [],
   "source": [
    "transforms = torchvision.transforms.Normalize(\n",
    "        mean=[0.485, 0.456, 0.406],\n",
    "        std=[0.229, 0.224, 0.225],\n",
    "    )\n",
    "def feed_process(data):\n",
    "    return transforms(data)"
   ]
  },
  {
   "cell_type": "code",
   "execution_count": 17,
   "metadata": {},
   "outputs": [],
   "source": [
    "attack = torchattacks.attacks.fgsm.FGSM(IntegratedModel,\n",
    "                                      eps=8/255)"
   ]
  },
  {
   "cell_type": "code",
   "execution_count": 80,
   "metadata": {
    "scrolled": false
   },
   "outputs": [
    {
     "name": "stderr",
     "output_type": "stream",
     "text": [
      "  0%|          | 0/50000 [00:00<?, ?it/s]/home/deponce/anaconda3/lib/python3.8/site-packages/torch/nn/functional.py:3609: UserWarning: Default upsampling behavior when mode=bilinear is changed to align_corners=False since 0.4.0. Please specify align_corners=True if the old behavior is desired. See the documentation of nn.Upsample for details.\n",
      "  warnings.warn(\n",
      "  1%|▏         | 705/50000 [00:51<59:42, 13.76it/s]  \n"
     ]
    },
    {
     "ename": "KeyboardInterrupt",
     "evalue": "",
     "output_type": "error",
     "traceback": [
      "\u001b[0;31m---------------------------------------------------------------------------\u001b[0m",
      "\u001b[0;31mKeyboardInterrupt\u001b[0m                         Traceback (most recent call last)",
      "\u001b[0;32m<ipython-input-80-e91a7833324d>\u001b[0m in \u001b[0;36m<module>\u001b[0;34m\u001b[0m\n\u001b[1;32m     27\u001b[0m     \u001b[0mblocks\u001b[0m \u001b[0;34m=\u001b[0m \u001b[0mblockify\u001b[0m\u001b[0;34m(\u001b[0m\u001b[0mtorch\u001b[0m\u001b[0;34m.\u001b[0m\u001b[0munsqueeze\u001b[0m\u001b[0;34m(\u001b[0m\u001b[0mtorch\u001b[0m\u001b[0;34m.\u001b[0m\u001b[0munsqueeze\u001b[0m\u001b[0;34m(\u001b[0m\u001b[0mturb_noise\u001b[0m\u001b[0;34m[\u001b[0m\u001b[0;36m0\u001b[0m\u001b[0;34m]\u001b[0m\u001b[0;34m,\u001b[0m\u001b[0mdim\u001b[0m\u001b[0;34m=\u001b[0m\u001b[0;36m0\u001b[0m\u001b[0;34m)\u001b[0m\u001b[0;34m,\u001b[0m\u001b[0mdim\u001b[0m\u001b[0;34m=\u001b[0m\u001b[0;36m0\u001b[0m\u001b[0;34m)\u001b[0m\u001b[0;34m,\u001b[0m\u001b[0;36m8\u001b[0m\u001b[0;34m)\u001b[0m \u001b[0;31m# get the Y channel, then reshape it to [N,C,H,W]\u001b[0m\u001b[0;34m\u001b[0m\u001b[0;34m\u001b[0m\u001b[0m\n\u001b[1;32m     28\u001b[0m     \u001b[0;31m#=================================================================\u001b[0m\u001b[0;34m\u001b[0m\u001b[0;34m\u001b[0m\u001b[0;34m\u001b[0m\u001b[0m\n\u001b[0;32m---> 29\u001b[0;31m     \u001b[0mcum_turb\u001b[0m \u001b[0;34m=\u001b[0m \u001b[0mtorch\u001b[0m\u001b[0;34m.\u001b[0m\u001b[0mcat\u001b[0m\u001b[0;34m(\u001b[0m\u001b[0;34m(\u001b[0m\u001b[0mcum_turb\u001b[0m\u001b[0;34m,\u001b[0m\u001b[0mblocks\u001b[0m\u001b[0;34m.\u001b[0m\u001b[0mdetach\u001b[0m\u001b[0;34m(\u001b[0m\u001b[0;34m)\u001b[0m\u001b[0;34m.\u001b[0m\u001b[0mcpu\u001b[0m\u001b[0;34m(\u001b[0m\u001b[0;34m)\u001b[0m\u001b[0;34m)\u001b[0m\u001b[0;34m,\u001b[0m\u001b[0mdim\u001b[0m \u001b[0;34m=\u001b[0m \u001b[0;36m2\u001b[0m\u001b[0;34m)\u001b[0m\u001b[0;34m\u001b[0m\u001b[0;34m\u001b[0m\u001b[0m\n\u001b[0m\u001b[1;32m     30\u001b[0m     \u001b[0;31m#=================================================================\u001b[0m\u001b[0;34m\u001b[0m\u001b[0;34m\u001b[0m\u001b[0;34m\u001b[0m\u001b[0m\n\u001b[1;32m     31\u001b[0m     \"\"\"\n",
      "\u001b[0;31mKeyboardInterrupt\u001b[0m: "
     ]
    }
   ],
   "source": [
    "correct_cnt = 0\n",
    "block_cnt = 0\n",
    "file_idx = 0\n",
    "cum_turb = torch.tensor([])\n",
    "for idx in tqdm((range(len(test_loader)))):\n",
    "    data, target = next(iter(test_loader))\n",
    "    \n",
    "    data, target = data.to(device), target.to(device)\n",
    "    \n",
    "    trans_data = feed_process(data)\n",
    "    output = IntegratedModel(trans_data)\n",
    "    init_pred = output.max(1, keepdim=True)[1]\n",
    "    if init_pred[0]!=target:\n",
    "        continue\n",
    "    #print(init_pred[0],target,init_pred[0]==target)\n",
    "    attack_img = attack(data, init_pred[0])\n",
    "    trans_data = feed_process(attack_img)\n",
    "    output = IntegratedModel(trans_data)\n",
    "    init_pred = output.max(1, keepdim=True)[1]\n",
    "    if init_pred[0]==target:\n",
    "        continue\n",
    "    # we assume that thh accuracy of the model is 1\n",
    "    #print((attack_img - data).shape)\n",
    "    #turb_noise = (attack_img - data).cpu().numpy()[0].transpose(1, 2, 0)\n",
    "    turb_noise = (attack_img - data)[0]\n",
    "    turb_noise = torch.unsqueeze(rgb_to_ycbcr(turb_noise)[0],dim=0)\n",
    "    blocks = blockify(torch.unsqueeze(torch.unsqueeze(turb_noise[0],dim=0),dim=0),8) # get the Y channel, then reshape it to [N,C,H,W]\n",
    "    #=================================================================\n",
    "    cum_turb = torch.cat((cum_turb,blocks.detach().cpu()),dim = 2)\n",
    "    #=================================================================\n",
    "\n",
    "    print(torch.max(blocks))\n",
    "    dct_cof = torch.squeeze(block_dct(blocks))\n",
    "    block_cnt += dct_cof.shape[0]\n",
    "    cum_turb = torch.cat((cum_turb,dct_cof.detach().cpu()),dim = 0)\n",
    "    if block_cnt >= 1000000:\n",
    "        cum_turb = cum_turb.numpy()\n",
    "        np.save('./result/FGSM_EPS8/FGSM_EPS8'+str(file_idx)+'.npy', cum_turb)\n",
    "        file_idx += 1\n",
    "        cum_turb = torch.tensor([])\n",
    "        block_cnt = 0\n"
   ]
  },
  {
   "cell_type": "code",
   "execution_count": 81,
   "metadata": {},
   "outputs": [
    {
     "data": {
      "text/plain": [
       "torch.Size([1, 1, 1548718, 8, 8])"
      ]
     },
     "execution_count": 81,
     "metadata": {},
     "output_type": "execute_result"
    }
   ],
   "source": [
    "cum_turb.shape"
   ]
  },
  {
   "cell_type": "code",
   "execution_count": 72,
   "metadata": {},
   "outputs": [],
   "source": [
    "cum_turb = cum_turb.numpy()\n",
    "np.save('./result/FGSM_EPS8/FGSM_EPS8'+str(file_idx)+'.npy', cum_turb)\n",
    "file_idx += 1\n",
    "cum_turb = torch.tensor([])\n",
    "block_cnt = 0"
   ]
  },
  {
   "cell_type": "code",
   "execution_count": 93,
   "metadata": {},
   "outputs": [],
   "source": [
    "import math\n",
    "DCT_max = np.ones((8,8))\n",
    "for u in range(8):\n",
    "    for v in range(8):\n",
    "        cnt = 0\n",
    "        for x in range(8):\n",
    "            for y in range(8):\n",
    "                cnt += abs(math.cos((2*x+1)*u*math.pi/16.)*math.cos((2*y+1)*v*math.pi/16.))\n",
    "        DCT_max[u,v] = cnt\n",
    "DCT_max = DCT_max/8./255.*8."
   ]
  },
  {
   "cell_type": "code",
   "execution_count": 82,
   "metadata": {},
   "outputs": [
    {
     "data": {
      "text/plain": [
       "torch.Size([1, 1, 1548718, 8, 8])"
      ]
     },
     "execution_count": 82,
     "metadata": {},
     "output_type": "execute_result"
    }
   ],
   "source": [
    "cum_turb.shape"
   ]
  },
  {
   "cell_type": "code",
   "execution_count": 83,
   "metadata": {},
   "outputs": [],
   "source": [
    "blocks = torch.squeeze(cum_turb)"
   ]
  },
  {
   "cell_type": "code",
   "execution_count": 84,
   "metadata": {},
   "outputs": [],
   "source": [
    "blocks = blocks.cpu().numpy()"
   ]
  },
  {
   "cell_type": "code",
   "execution_count": 85,
   "metadata": {},
   "outputs": [
    {
     "data": {
      "text/plain": [
       "(1548718, 8, 8)"
      ]
     },
     "execution_count": 85,
     "metadata": {},
     "output_type": "execute_result"
    }
   ],
   "source": [
    "blocks.shape"
   ]
  },
  {
   "cell_type": "code",
   "execution_count": 88,
   "metadata": {},
   "outputs": [],
   "source": [
    "import cv2\n",
    "from tqdm import tqdm"
   ]
  },
  {
   "cell_type": "code",
   "execution_count": 89,
   "metadata": {},
   "outputs": [
    {
     "name": "stderr",
     "output_type": "stream",
     "text": [
      "  9%|▊         | 132700/1548717 [03:08<33:28, 705.01it/s]  \n"
     ]
    },
    {
     "ename": "KeyboardInterrupt",
     "evalue": "",
     "output_type": "error",
     "traceback": [
      "\u001b[0;31m---------------------------------------------------------------------------\u001b[0m",
      "\u001b[0;31mKeyboardInterrupt\u001b[0m                         Traceback (most recent call last)",
      "\u001b[0;32m<ipython-input-89-f9a14d300cac>\u001b[0m in \u001b[0;36m<module>\u001b[0;34m\u001b[0m\n\u001b[1;32m      1\u001b[0m \u001b[0mcn\u001b[0m \u001b[0;34m=\u001b[0m \u001b[0mnp\u001b[0m\u001b[0;34m.\u001b[0m\u001b[0mexpand_dims\u001b[0m\u001b[0;34m(\u001b[0m\u001b[0mcv2\u001b[0m\u001b[0;34m.\u001b[0m\u001b[0mdct\u001b[0m\u001b[0;34m(\u001b[0m\u001b[0mblocks\u001b[0m\u001b[0;34m[\u001b[0m\u001b[0;36m0\u001b[0m\u001b[0;34m]\u001b[0m\u001b[0;34m)\u001b[0m\u001b[0;34m,\u001b[0m\u001b[0;36m0\u001b[0m\u001b[0;34m)\u001b[0m\u001b[0;34m\u001b[0m\u001b[0;34m\u001b[0m\u001b[0m\n\u001b[1;32m      2\u001b[0m \u001b[0;32mfor\u001b[0m \u001b[0mi\u001b[0m \u001b[0;32min\u001b[0m \u001b[0mtqdm\u001b[0m\u001b[0;34m(\u001b[0m\u001b[0mrange\u001b[0m\u001b[0;34m(\u001b[0m\u001b[0mblocks\u001b[0m\u001b[0;34m.\u001b[0m\u001b[0mshape\u001b[0m\u001b[0;34m[\u001b[0m\u001b[0;36m0\u001b[0m\u001b[0;34m]\u001b[0m\u001b[0;34m-\u001b[0m\u001b[0;36m1\u001b[0m\u001b[0;34m)\u001b[0m\u001b[0;34m)\u001b[0m\u001b[0;34m:\u001b[0m\u001b[0;34m\u001b[0m\u001b[0;34m\u001b[0m\u001b[0m\n\u001b[0;32m----> 3\u001b[0;31m     \u001b[0mcn\u001b[0m \u001b[0;34m=\u001b[0m \u001b[0mnp\u001b[0m\u001b[0;34m.\u001b[0m\u001b[0mconcatenate\u001b[0m\u001b[0;34m(\u001b[0m\u001b[0;34m(\u001b[0m\u001b[0mcn\u001b[0m\u001b[0;34m,\u001b[0m\u001b[0mnp\u001b[0m\u001b[0;34m.\u001b[0m\u001b[0mexpand_dims\u001b[0m\u001b[0;34m(\u001b[0m\u001b[0mcv2\u001b[0m\u001b[0;34m.\u001b[0m\u001b[0mdct\u001b[0m\u001b[0;34m(\u001b[0m\u001b[0mblocks\u001b[0m\u001b[0;34m[\u001b[0m\u001b[0mi\u001b[0m\u001b[0;34m+\u001b[0m\u001b[0;36m1\u001b[0m\u001b[0;34m]\u001b[0m\u001b[0;34m)\u001b[0m\u001b[0;34m,\u001b[0m\u001b[0;36m0\u001b[0m\u001b[0;34m)\u001b[0m\u001b[0;34m)\u001b[0m\u001b[0;34m,\u001b[0m\u001b[0maxis\u001b[0m\u001b[0;34m=\u001b[0m\u001b[0;36m0\u001b[0m\u001b[0;34m)\u001b[0m\u001b[0;34m\u001b[0m\u001b[0;34m\u001b[0m\u001b[0m\n\u001b[0m",
      "\u001b[0;32m<__array_function__ internals>\u001b[0m in \u001b[0;36mconcatenate\u001b[0;34m(*args, **kwargs)\u001b[0m\n",
      "\u001b[0;31mKeyboardInterrupt\u001b[0m: "
     ]
    }
   ],
   "source": [
    "cn = np.expand_dims(cv2.dct(blocks[0]),0)\n",
    "for i in tqdm(range(blocks.shape[0]-1)):\n",
    "    cn = np.concatenate((cn,np.expand_dims(cv2.dct(blocks[i+1]),0)),axis=0)"
   ]
  },
  {
   "cell_type": "code",
   "execution_count": 90,
   "metadata": {},
   "outputs": [
    {
     "data": {
      "text/plain": [
       "(132701, 8, 8)"
      ]
     },
     "execution_count": 90,
     "metadata": {},
     "output_type": "execute_result"
    }
   ],
   "source": [
    "cn.shape"
   ]
  },
  {
   "cell_type": "code",
   "execution_count": 67,
   "metadata": {},
   "outputs": [
    {
     "data": {
      "text/plain": [
       "(2852, 8, 8)"
      ]
     },
     "execution_count": 67,
     "metadata": {},
     "output_type": "execute_result"
    }
   ],
   "source": [
    "cn.shape"
   ]
  },
  {
   "cell_type": "code",
   "execution_count": 92,
   "metadata": {},
   "outputs": [
    {
     "data": {
      "text/plain": [
       "0.17911123"
      ]
     },
     "execution_count": 92,
     "metadata": {},
     "output_type": "execute_result"
    }
   ],
   "source": [
    "np.max(cn[:,1,1])"
   ]
  },
  {
   "cell_type": "code",
   "execution_count": 94,
   "metadata": {},
   "outputs": [
    {
     "data": {
      "text/plain": [
       "0.1030358524277968"
      ]
     },
     "execution_count": 94,
     "metadata": {},
     "output_type": "execute_result"
    }
   ],
   "source": [
    "DCT_max[1,1]"
   ]
  },
  {
   "cell_type": "code",
   "execution_count": 69,
   "metadata": {},
   "outputs": [
    {
     "data": {
      "text/plain": [
       "-0.20178822"
      ]
     },
     "execution_count": 69,
     "metadata": {},
     "output_type": "execute_result"
    }
   ],
   "source": [
    "np.min(cn[:,0,0])"
   ]
  },
  {
   "cell_type": "code",
   "execution_count": 58,
   "metadata": {},
   "outputs": [
    {
     "data": {
      "text/plain": [
       "array([[0.25098039, 0.16081038, 0.16396084, 0.16081038, 0.17746994,\n",
       "        0.16081038, 0.16396084, 0.16081038],\n",
       "       [0.16081038, 0.10303585, 0.10505444, 0.10303585, 0.11371011,\n",
       "        0.10303585, 0.10505444, 0.10303585],\n",
       "       [0.16396084, 0.10505444, 0.10711258, 0.10505444, 0.11593782,\n",
       "        0.10505444, 0.10711258, 0.10505444],\n",
       "       [0.16081038, 0.10303585, 0.10505444, 0.10303585, 0.11371011,\n",
       "        0.10303585, 0.10505444, 0.10303585],\n",
       "       [0.17746994, 0.11371011, 0.11593782, 0.11371011, 0.1254902 ,\n",
       "        0.11371011, 0.11593782, 0.11371011],\n",
       "       [0.16081038, 0.10303585, 0.10505444, 0.10303585, 0.11371011,\n",
       "        0.10303585, 0.10505444, 0.10303585],\n",
       "       [0.16396084, 0.10505444, 0.10711258, 0.10505444, 0.11593782,\n",
       "        0.10505444, 0.10711258, 0.10505444],\n",
       "       [0.16081038, 0.10303585, 0.10505444, 0.10303585, 0.11371011,\n",
       "        0.10303585, 0.10505444, 0.10303585]])"
      ]
     },
     "execution_count": 58,
     "metadata": {},
     "output_type": "execute_result"
    }
   ],
   "source": [
    "DCT_max"
   ]
  },
  {
   "cell_type": "code",
   "execution_count": null,
   "metadata": {},
   "outputs": [],
   "source": []
  }
 ],
 "metadata": {
  "kernelspec": {
   "display_name": "Python 3",
   "language": "python",
   "name": "python3"
  },
  "language_info": {
   "codemirror_mode": {
    "name": "ipython",
    "version": 3
   },
   "file_extension": ".py",
   "mimetype": "text/x-python",
   "name": "python",
   "nbconvert_exporter": "python",
   "pygments_lexer": "ipython3",
   "version": "3.8.5"
  }
 },
 "nbformat": 4,
 "nbformat_minor": 5
}
