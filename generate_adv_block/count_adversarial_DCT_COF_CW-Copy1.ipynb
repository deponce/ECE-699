{
 "cells": [
  {
   "cell_type": "code",
   "execution_count": 1,
   "metadata": {
    "scrolled": true
   },
   "outputs": [
    {
     "name": "stdout",
     "output_type": "stream",
     "text": [
      "cuda\n"
     ]
    }
   ],
   "source": [
    "import torch\n",
    "import torchvision\n",
    "import torch.nn as nn\n",
    "import torch.nn.functional as F\n",
    "import torch.optim as optim\n",
    "from torch.utils.data import Dataset, TensorDataset\n",
    "import torchattacks\n",
    "from torchsummary import summary\n",
    "from torchvision import models, datasets, transforms\n",
    "import cv2\n",
    "import numpy as np\n",
    "from matplotlib import pyplot as plt\n",
    "from tqdm import tqdm\n",
    "import numpy as np\n",
    "import math\n",
    "\n",
    "import os\n",
    "os.environ[\"CUDA_VISIBLE_DEVICES\"]=\"1\"\n",
    "device = torch.device('cuda' if torch.cuda.is_available() else 'cpu')\n",
    "print(device)"
   ]
  },
  {
   "cell_type": "markdown",
   "metadata": {},
   "source": [
    "pip install cleverhans"
   ]
  },
  {
   "cell_type": "code",
   "execution_count": 2,
   "metadata": {},
   "outputs": [],
   "source": [
    "import cleverhans"
   ]
  },
  {
   "cell_type": "code",
   "execution_count": 5,
   "metadata": {},
   "outputs": [
    {
     "ename": "ImportError",
     "evalue": "cannot import name 'CarliniWagnerL2' from 'cleverhans.torch.attacks' (/home/deponce/anaconda3/lib/python3.8/site-packages/cleverhans/torch/attacks/__init__.py)",
     "output_type": "error",
     "traceback": [
      "\u001b[0;31m---------------------------------------------------------------------------\u001b[0m",
      "\u001b[0;31mImportError\u001b[0m                               Traceback (most recent call last)",
      "\u001b[0;32m<ipython-input-5-838286dcb171>\u001b[0m in \u001b[0;36m<module>\u001b[0;34m\u001b[0m\n\u001b[0;32m----> 1\u001b[0;31m \u001b[0;32mfrom\u001b[0m \u001b[0mcleverhans\u001b[0m\u001b[0;34m.\u001b[0m\u001b[0mtorch\u001b[0m\u001b[0;34m.\u001b[0m\u001b[0mattacks\u001b[0m \u001b[0;32mimport\u001b[0m \u001b[0mCarliniWagnerL2\u001b[0m\u001b[0;34m\u001b[0m\u001b[0;34m\u001b[0m\u001b[0m\n\u001b[0m",
      "\u001b[0;31mImportError\u001b[0m: cannot import name 'CarliniWagnerL2' from 'cleverhans.torch.attacks' (/home/deponce/anaconda3/lib/python3.8/site-packages/cleverhans/torch/attacks/__init__.py)"
     ]
    }
   ],
   "source": [
    "from cleverhans.torch.attacks import CarliniWagnerL2"
   ]
  },
  {
   "cell_type": "code",
   "execution_count": 32,
   "metadata": {},
   "outputs": [
    {
     "ename": "ModuleNotFoundError",
     "evalue": "No module named 'cleverhans.attack'",
     "output_type": "error",
     "traceback": [
      "\u001b[0;31m---------------------------------------------------------------------------\u001b[0m",
      "\u001b[0;31mModuleNotFoundError\u001b[0m                       Traceback (most recent call last)",
      "\u001b[0;32m<ipython-input-32-1d9c0ef1b7b4>\u001b[0m in \u001b[0;36m<module>\u001b[0;34m\u001b[0m\n\u001b[0;32m----> 1\u001b[0;31m \u001b[0;32mfrom\u001b[0m \u001b[0mcleverhans\u001b[0m\u001b[0;34m.\u001b[0m\u001b[0mattack\u001b[0m \u001b[0;32mimport\u001b[0m \u001b[0mCarliniWagnerL2\u001b[0m\u001b[0;34m\u001b[0m\u001b[0;34m\u001b[0m\u001b[0m\n\u001b[0m",
      "\u001b[0;31mModuleNotFoundError\u001b[0m: No module named 'cleverhans.attack'"
     ]
    }
   ],
   "source": [
    "from cleverhans.attacks import CarliniWagnerL2"
   ]
  },
  {
   "cell_type": "markdown",
   "metadata": {},
   "source": [
    "import sys\n",
    "from watermarkJPEG import *\n",
    "from JPEG_layer import * # some utils."
   ]
  },
  {
   "cell_type": "code",
   "execution_count": 3,
   "metadata": {},
   "outputs": [],
   "source": [
    "transform = transforms.Compose(\n",
    "        [\n",
    "            #transforms.Resize(256),\n",
    "            #transforms.CenterCrop(224),\n",
    "            transforms.ToTensor(),\n",
    "            #transforms.Normalize(mean=[0.485, 0.456, 0.406], std=[0.229, 0.224, 0.225]),\n",
    "        ]\n",
    "    )\n",
    "\n",
    "dataset = torchvision.datasets.ImageNet(root=\"../data/\", split='val',\n",
    "                             transform=transform\n",
    "                                       )\n",
    "\n",
    "test_loader = torch.utils.data.DataLoader(dataset, batch_size=1, shuffle=True)"
   ]
  },
  {
   "cell_type": "code",
   "execution_count": 4,
   "metadata": {},
   "outputs": [],
   "source": [
    "class Interpolate(nn.Module):\n",
    "    def __init__(self,size=(224,224), mode='bilinear') -> None:\n",
    "        super(Interpolate, self).__init__()\n",
    "        self.size = size\n",
    "        self.mode = mode\n",
    "    def forward(self, input: torch.Tensor) -> torch.Tensor:\n",
    "        #input = torch.squeeze(input)\n",
    "        #return torch.unsqueeze(F.interpolate(input, size=self.size, mode=self.mode), dim=0)\n",
    "        return F.interpolate(input, size=self.size, mode=self.mode)"
   ]
  },
  {
   "cell_type": "code",
   "execution_count": 5,
   "metadata": {},
   "outputs": [],
   "source": [
    "def modelIntegration(pretrained_model):\n",
    "    class IntegratedModel(nn.Module):\n",
    "        def __init__(self, pretrained_model):\n",
    "            super(IntegratedModel, self).__init__()\n",
    "            interpolate = Interpolate()\n",
    "            self.Integrated_Model = nn.Sequential(\n",
    "                interpolate,\n",
    "                pretrained_model\n",
    "            )\n",
    "\n",
    "        def forward(self, x):\n",
    "            x = self.Integrated_Model(x)\n",
    "            return x\n",
    "    return IntegratedModel(pretrained_model)"
   ]
  },
  {
   "cell_type": "code",
   "execution_count": 6,
   "metadata": {},
   "outputs": [],
   "source": [
    "pretrained_model = models.resnet18(pretrained=True,  progress = True).to(device)\n",
    "#_ = pretrained_model.eval()"
   ]
  },
  {
   "cell_type": "code",
   "execution_count": 7,
   "metadata": {},
   "outputs": [],
   "source": [
    "IntegratedModel = modelIntegration(pretrained_model).to(device)\n",
    "_=IntegratedModel.eval()"
   ]
  },
  {
   "cell_type": "code",
   "execution_count": 8,
   "metadata": {},
   "outputs": [],
   "source": [
    "def recreate_image(im_as_var):\n",
    "    \"\"\"\n",
    "        Recreates images from a torch variable, sort of reverse preprocessing\n",
    "\n",
    "    Args:\n",
    "        im_as_var (torch variable): Image to recreate\n",
    "\n",
    "    returns:\n",
    "        recreated_im (numpy arr): Recreated image in array\n",
    "    \"\"\"\n",
    "    reverse_mean = [-0.485, -0.456, -0.406]\n",
    "    reverse_std = [1/0.229, 1/0.224, 1/0.225]\n",
    "    recreated_im = torch.clone(im_as_var)\n",
    "    recreated_im = recreated_im.cpu().numpy()[0]\n",
    "    for c in range(3):\n",
    "        recreated_im[c] /= reverse_std[c]\n",
    "        recreated_im[c] -= reverse_mean[c]\n",
    "    recreated_im[recreated_im > 1] = 1\n",
    "    recreated_im[recreated_im < 0] = 0\n",
    "    #recreated_im = np.round(recreated_im * 255)\n",
    "    recreated_im = recreated_im.transpose(1, 2, 0)\n",
    "    #recreated_im = np.uint8(recreated_im).transpose(1, 2, 0)\n",
    "    # Convert RBG to GBR\n",
    "    #recreated_im = recreated_im[..., ::-1]\n",
    "    return recreated_im"
   ]
  },
  {
   "cell_type": "code",
   "execution_count": 9,
   "metadata": {},
   "outputs": [],
   "source": [
    "def recreate_image(im_as_var):\n",
    "    recreated_im = torch.clone(im_as_var)\n",
    "    recreated_im = recreated_im.cpu().numpy()[0]\n",
    "    #recreated_im = np.round(recreated_im * 255)\n",
    "    recreated_im = recreated_im.transpose(1, 2, 0)\n",
    "    #recreated_im = np.uint8(recreated_im).transpose(1, 2, 0)\n",
    "    # Convert RBG to GBR\n",
    "    #recreated_im = recreated_im[..., ::-1]\n",
    "    return recreated_im"
   ]
  },
  {
   "cell_type": "code",
   "execution_count": 10,
   "metadata": {},
   "outputs": [],
   "source": [
    "def blockify(im: torch.Tensor, size: int) -> torch.Tensor:\n",
    "    r\"\"\"\n",
    "    Breaks an image into non-overlapping blocks of equal size.\n",
    "\n",
    "    Parameters\n",
    "    ----------\n",
    "    im : Tensor\n",
    "        The image to break into blocks, must be in :math:`(N, C, H, W)` format.\n",
    "    size : Tuple[int, int]\n",
    "        The size of the blocks in :math:`(H, W)` format.\n",
    "\n",
    "    Returns\n",
    "    -------\n",
    "    A tensor containing the non-overlappng blocks in :math:`(N, C, L, H, W)` format where :math:`L` is the\n",
    "    number of non-overlapping blocks in the image channel indexed by :math:`(N, C)` and :math:`(H, W)` matches\n",
    "    the block size.\n",
    "\n",
    "    Note\n",
    "    ----\n",
    "    If the image does not split evenly into blocks of the given size, the result will have some overlap. It\n",
    "    is the callers responsibility to pad the input to a multiple of the block size, no error will be thrown\n",
    "    in this case.\n",
    "    \"\"\"\n",
    "    bs = im.shape[0]\n",
    "    ch = im.shape[1]\n",
    "    h = im.shape[2]\n",
    "    w = im.shape[3]\n",
    "\n",
    "    im = im.reshape(bs * ch, 1, h, w)\n",
    "    im = torch.nn.functional.unfold(im, kernel_size=(size, size), stride=(size, size))\n",
    "    im = im.transpose(1, 2)\n",
    "    im = im.reshape(bs, ch, -1, size, size)\n",
    "\n",
    "    return im"
   ]
  },
  {
   "cell_type": "code",
   "execution_count": 11,
   "metadata": {},
   "outputs": [],
   "source": [
    "def _normalize(N: int) -> torch.Tensor:\n",
    "    r\"\"\"\n",
    "    Computes the constant scale factor which makes the DCT orthonormal\n",
    "    \"\"\"\n",
    "    n = torch.ones((N, 1)).to(device)\n",
    "    n[0, 0] = 1 / math.sqrt(2)\n",
    "    return n @ n.t()"
   ]
  },
  {
   "cell_type": "code",
   "execution_count": 12,
   "metadata": {},
   "outputs": [],
   "source": [
    "def _harmonics(N: int) -> torch.Tensor:\n",
    "    r\"\"\"\n",
    "    Computes the cosine harmonics for the DCT transform\n",
    "    \"\"\"\n",
    "    spatial = torch.arange(float(N)).reshape((N, 1))\n",
    "    spectral = torch.arange(float(N)).reshape((1, N))\n",
    "\n",
    "    spatial = 2 * spatial + 1\n",
    "    spectral = (spectral * math.pi) / (2 * N)\n",
    "\n",
    "    return torch.cos(spatial @ spectral)"
   ]
  },
  {
   "cell_type": "markdown",
   "metadata": {},
   "source": [
    "$D_{i,j}={\\frac {1}{\\sqrt{2N}}}\\alpha (i)\\alpha (j)\\sum _{x=0}^{N}\\sum _{y=0}^{N}I_{x,y}\\cos \\left[{\\frac {(2x+1)i\\pi }{2N}}\\right]\\cos \\left[{\\frac {(2y+1)j\\pi }{2N}}\\right]$\n",
    "        "
   ]
  },
  {
   "cell_type": "code",
   "execution_count": 12,
   "metadata": {},
   "outputs": [],
   "source": [
    "def block_dct(blocks: torch.Tensor) -> torch.Tensor:\n",
    "    r\"\"\"\n",
    "    Computes the DCT of image blocks\n",
    "\n",
    "    Args:\n",
    "        blocks (Tensor): Non-overlapping blocks to perform the DCT on in :math:`(N, C, L, H, W)` format.\n",
    "    \n",
    "    Returns:\n",
    "        Tensor: The DCT coefficients of each block in the same shape as the input.\n",
    "\n",
    "    Note:\n",
    "        The function computes the forward DCT on each block given by \n",
    "\n",
    "        .. math::\n",
    "\n",
    "            D_{i,j}={\\frac {1}{\\sqrt{2N}}}\\alpha (i)\\alpha (j)\\sum _{x=0}^{N}\\sum _{y=0}^{N}I_{x,y}\\cos \\left[{\\frac {(2x+1)i\\pi }{2N}}\\right]\\cos \\left[{\\frac {(2y+1)j\\pi }{2N}}\\right]\n",
    "        \n",
    "        Where :math:`i,j` are the spatial frequency indices, :math:`N` is the block size and :math:`I` is the image with pixel positions :math:`x, y`. \n",
    "        \n",
    "        :math:`\\alpha` is a scale factor which ensures the transform is orthonormal given by \n",
    "\n",
    "        .. math::\n",
    "\n",
    "            \\alpha(u) = \\begin{cases}{\n",
    "                    \\frac{1}{\\sqrt{2}}} &{\\text{if }}u=0 \\\\\n",
    "                    1 &{\\text{otherwise}}\n",
    "                \\end{cases}\n",
    "        \n",
    "        There is technically no restriction on the range of pixel values but to match JPEG it is recommended to use the range [-128, 127].\n",
    "    \"\"\"\n",
    "    N = blocks.shape[3]\n",
    "\n",
    "    n = _normalize(N).float()\n",
    "    h = _harmonics(N).float()\n",
    "\n",
    "    if blocks.is_cuda:\n",
    "        n = n.cuda()\n",
    "        h = h.cuda()\n",
    "    \n",
    "    coeff = (1 / math.sqrt(2 * N)) * n * (h.t() @ blocks @ h)\n",
    "\n",
    "    return coeff"
   ]
  },
  {
   "cell_type": "code",
   "execution_count": 13,
   "metadata": {},
   "outputs": [],
   "source": [
    "cnt = 0\n",
    "def rgb_to_ycbcr(image: torch.Tensor) -> torch.Tensor:\n",
    "    r\"\"\"Convert an RGB image to YCbCr.\n",
    "\n",
    "    Args:\n",
    "        image (torch.Tensor): RGB Image to be converted to YCbCr.\n",
    "\n",
    "    Returns:\n",
    "        torch.Tensor: YCbCr version of the image.\n",
    "    \"\"\"\n",
    "\n",
    "    if not torch.is_tensor(image):\n",
    "        raise TypeError(\"Input type is not a torch.Tensor. Got {}\".format(\n",
    "            type(image)))\n",
    "\n",
    "    if len(image.shape) < 3 or image.shape[-3] != 3:\n",
    "        raise ValueError(\"Input size must have a shape of (*, 3, H, W). Got {}\"\n",
    "                         .format(image.shape))\n",
    "\n",
    "    r: torch.Tensor = image[..., 0, :, :]\n",
    "    g: torch.Tensor = image[..., 1, :, :]\n",
    "    b: torch.Tensor = image[..., 2, :, :]\n",
    "\n",
    "    delta = .5\n",
    "    y: torch.Tensor = .299 * r + .587 * g + .114 * b\n",
    "    cb: torch.Tensor = (b - y) * .564 + delta\n",
    "    cr: torch.Tensor = (r - y) * .713 + delta\n",
    "    return torch.stack((y, cb, cr), -3)"
   ]
  },
  {
   "cell_type": "code",
   "execution_count": 14,
   "metadata": {},
   "outputs": [],
   "source": [
    "transforms = torchvision.transforms.Normalize(\n",
    "        mean=[0.485, 0.456, 0.406],\n",
    "        std=[0.229, 0.224, 0.225],\n",
    "    )\n",
    "def feed_process(data):\n",
    "    return transforms(data)"
   ]
  },
  {
   "cell_type": "code",
   "execution_count": 15,
   "metadata": {},
   "outputs": [],
   "source": [
    "attack = torchattacks.attacks.cw.CW(IntegratedModel, c=255, kappa=10, steps=1000,lr=0.1)"
   ]
  },
  {
   "cell_type": "code",
   "execution_count": null,
   "metadata": {},
   "outputs": [],
   "source": [
    "correct_cnt = 0\n",
    "block_cnt = 0\n",
    "file_idx = 0\n",
    "cum_turb = torch.tensor([]).to(device)\n",
    "IntegratedModel"
   ]
  },
  {
   "cell_type": "code",
   "execution_count": 20,
   "metadata": {
    "scrolled": true
   },
   "outputs": [
    {
     "name": "stderr",
     "output_type": "stream",
     "text": [
      "  0%|          | 0/43220 [00:00<?, ?it/s]/home/deponce/anaconda3/lib/python3.8/site-packages/torch/nn/functional.py:3609: UserWarning: Default upsampling behavior when mode=bilinear is changed to align_corners=False since 0.4.0. Please specify align_corners=True if the old behavior is desired. See the documentation of nn.Upsample for details.\n",
      "  warnings.warn(\n",
      "100%|██████████| 43220/43220 [59:14:52<00:00,  4.94s/it]   \n"
     ]
    }
   ],
   "source": [
    "file_idx = 6\n",
    "for idx in tqdm((range(6781-1,len(test_loader)))):\n",
    "    data, target = next(iter(test_loader))\n",
    "    \n",
    "    data, target = data.to(device), target.to(device)\n",
    "    \n",
    "    trans_data = feed_process(data)\n",
    "    output = IntegratedModel(trans_data)\n",
    "    init_pred = output.max(1, keepdim=True)[1]\n",
    "    if init_pred[0]!=target:\n",
    "        continue\n",
    "    #print(init_pred[0],target,init_pred[0]==target)\n",
    "    attack_img = attack(data, init_pred[0])\n",
    "    trans_data = feed_process(attack_img)\n",
    "    output = IntegratedModel(trans_data)\n",
    "    init_pred = output.max(1, keepdim=True)[1]\n",
    "    if init_pred[0]==target:\n",
    "        continue\n",
    "    #cnt = cnt+1\n",
    "    #print(cnt)\n",
    "    # we assume that thh accuracy of the model is 1\n",
    "    #print((attack_img - data).shape)\n",
    "    #turb_noise = (attack_img - data).cpu().numpy()[0].transpose(1, 2, 0)\n",
    "    \n",
    "    turb_noise = (attack_img - data)[0]\n",
    "    \n",
    "    turb_noise = rgb_to_ycbcr(turb_noise)\n",
    "    \n",
    "    \n",
    "    blocks = blockify(torch.unsqueeze(torch.unsqueeze(turb_noise[0],dim=0),dim=0),8) # get the Y channel, then reshape it to [N,C,H,W]\n",
    "    dct_cof = torch.squeeze(block_dct(blocks))\n",
    "    block_cnt += dct_cof.shape[0]\n",
    "    cum_turb = torch.cat((cum_turb,dct_cof.detach()),dim = 0)\n",
    "    #print(\"ass\",block_cnt)\n",
    "    if block_cnt >= 1000000:\n",
    "        #print(\"ass\",block_cnt)\n",
    "        cum_turb = cum_turb.cpu().numpy()\n",
    "        np.save('./result/CW/CW'+str(file_idx)+'.npy', cum_turb)\n",
    "        file_idx += 1\n",
    "        cum_turb = torch.tensor([]).to(device)\n",
    "        block_cnt = 0"
   ]
  },
  {
   "cell_type": "code",
   "execution_count": 21,
   "metadata": {},
   "outputs": [
    {
     "data": {
      "text/plain": [
       "44"
      ]
     },
     "execution_count": 21,
     "metadata": {},
     "output_type": "execute_result"
    }
   ],
   "source": [
    "file_idx"
   ]
  },
  {
   "cell_type": "code",
   "execution_count": 22,
   "metadata": {},
   "outputs": [
    {
     "data": {
      "text/plain": [
       "317388"
      ]
     },
     "execution_count": 22,
     "metadata": {},
     "output_type": "execute_result"
    }
   ],
   "source": [
    "len(cum_turb)"
   ]
  },
  {
   "cell_type": "code",
   "execution_count": 23,
   "metadata": {},
   "outputs": [],
   "source": [
    "cum_turb = cum_turb.cpu().numpy()"
   ]
  },
  {
   "cell_type": "code",
   "execution_count": 24,
   "metadata": {},
   "outputs": [],
   "source": [
    "np.save('./result/CW/CW'+str(file_idx)+'.npy', cum_turb)"
   ]
  },
  {
   "cell_type": "code",
   "execution_count": 3,
   "metadata": {},
   "outputs": [
    {
     "data": {
      "text/plain": [
       "10.169444444444444"
      ]
     },
     "execution_count": 3,
     "metadata": {},
     "output_type": "execute_result"
    }
   ],
   "source": [
    "3661*10/60/60"
   ]
  },
  {
   "cell_type": "code",
   "execution_count": null,
   "metadata": {},
   "outputs": [],
   "source": []
  },
  {
   "cell_type": "code",
   "execution_count": null,
   "metadata": {},
   "outputs": [],
   "source": [
    "%pwd"
   ]
  },
  {
   "cell_type": "code",
   "execution_count": null,
   "metadata": {},
   "outputs": [],
   "source": [
    "str(block_cnt)"
   ]
  },
  {
   "cell_type": "code",
   "execution_count": null,
   "metadata": {},
   "outputs": [],
   "source": [
    "block_cnt%1000000"
   ]
  },
  {
   "cell_type": "code",
   "execution_count": null,
   "metadata": {},
   "outputs": [],
   "source": []
  }
 ],
 "metadata": {
  "kernelspec": {
   "display_name": "Python 3",
   "language": "python",
   "name": "python3"
  },
  "language_info": {
   "codemirror_mode": {
    "name": "ipython",
    "version": 3
   },
   "file_extension": ".py",
   "mimetype": "text/x-python",
   "name": "python",
   "nbconvert_exporter": "python",
   "pygments_lexer": "ipython3",
   "version": "3.8.5"
  }
 },
 "nbformat": 4,
 "nbformat_minor": 5
}
